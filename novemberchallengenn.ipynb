{
 "cells": [
  {
   "cell_type": "markdown",
   "id": "8b904039",
   "metadata": {
    "papermill": {
     "duration": 0.006279,
     "end_time": "2024-11-14T19:38:38.335428",
     "exception": false,
     "start_time": "2024-11-14T19:38:38.329149",
     "status": "completed"
    },
    "tags": []
   },
   "source": [
    "# Notebook to Solve the Kaggle Data Challenge\n",
    "## Import Libs and Data"
   ]
  },
  {
   "cell_type": "code",
   "execution_count": 1,
   "id": "b92eadf7",
   "metadata": {
    "_cell_guid": "b1076dfc-b9ad-4769-8c92-a6c4dae69d19",
    "_uuid": "8f2839f25d086af736a60e9eeb907d3b93b6e0e5",
    "execution": {
     "iopub.execute_input": "2024-11-14T19:38:38.350609Z",
     "iopub.status.busy": "2024-11-14T19:38:38.349462Z",
     "iopub.status.idle": "2024-11-14T19:38:40.026957Z",
     "shell.execute_reply": "2024-11-14T19:38:40.025783Z"
    },
    "papermill": {
     "duration": 1.6877,
     "end_time": "2024-11-14T19:38:40.029795",
     "exception": false,
     "start_time": "2024-11-14T19:38:38.342095",
     "status": "completed"
    },
    "tags": []
   },
   "outputs": [],
   "source": [
    "# This Python 3 environment comes with many helpful analytics libraries installed\n",
    "# It is defined by the kaggle/python Docker image: https://github.com/kaggle/docker-python\n",
    "# For example, here's several helpful packages to load\n",
    "\n",
    "import numpy as np # linear algebra\n",
    "import pandas as pd # data processing, CSV file I/O (e.g. pd.read_csv)\n",
    "import matplotlib.pyplot as plt # for data visualization\n",
    "from sklearn.preprocessing import MinMaxScaler # for Normalization\n",
    "#import os"
   ]
  },
  {
   "cell_type": "code",
   "execution_count": 2,
   "id": "520a1269",
   "metadata": {
    "execution": {
     "iopub.execute_input": "2024-11-14T19:38:40.045633Z",
     "iopub.status.busy": "2024-11-14T19:38:40.044407Z",
     "iopub.status.idle": "2024-11-14T19:38:40.857325Z",
     "shell.execute_reply": "2024-11-14T19:38:40.856120Z"
    },
    "papermill": {
     "duration": 0.824087,
     "end_time": "2024-11-14T19:38:40.859840",
     "exception": false,
     "start_time": "2024-11-14T19:38:40.035753",
     "status": "completed"
    },
    "tags": []
   },
   "outputs": [],
   "source": [
    "# Load the train and test datasets\n",
    "train_df = pd.read_csv('/kaggle/input/playground-series-s4e11/train.csv')\n",
    "test_df = pd.read_csv('/kaggle/input/playground-series-s4e11/test.csv')"
   ]
  },
  {
   "cell_type": "markdown",
   "id": "96c7b6c6",
   "metadata": {
    "papermill": {
     "duration": 0.005421,
     "end_time": "2024-11-14T19:38:40.871024",
     "exception": false,
     "start_time": "2024-11-14T19:38:40.865603",
     "status": "completed"
    },
    "tags": []
   },
   "source": [
    "## Analysing the Data"
   ]
  },
  {
   "cell_type": "code",
   "execution_count": 3,
   "id": "5d313c23",
   "metadata": {
    "execution": {
     "iopub.execute_input": "2024-11-14T19:38:40.883659Z",
     "iopub.status.busy": "2024-11-14T19:38:40.883261Z",
     "iopub.status.idle": "2024-11-14T19:38:40.889180Z",
     "shell.execute_reply": "2024-11-14T19:38:40.888106Z"
    },
    "papermill": {
     "duration": 0.01489,
     "end_time": "2024-11-14T19:38:40.891554",
     "exception": false,
     "start_time": "2024-11-14T19:38:40.876664",
     "status": "completed"
    },
    "tags": []
   },
   "outputs": [],
   "source": [
    "def analyzeDataset(dataset):\n",
    "    #Shape\n",
    "    print(\"Shape: \" + str(dataset.shape))\n",
    "    # information about dtype non-null types\n",
    "    dataset.info()\n",
    "    # check for missing values in variables\n",
    "    print(\"\\n NaN values: \")\n",
    "    print(dataset.isnull().sum())\n",
    "    #Calculate the number of unique entries in the object fields\n",
    "    distinct_vals = dataset.nunique(axis=0)\n",
    "    print(\"\\nDistinct Values: \")\n",
    "    print(distinct_vals)\n",
    "    #round(train_df.describe(),2)"
   ]
  },
  {
   "cell_type": "markdown",
   "id": "7ee13148",
   "metadata": {
    "papermill": {
     "duration": 0.00527,
     "end_time": "2024-11-14T19:38:40.903252",
     "exception": false,
     "start_time": "2024-11-14T19:38:40.897982",
     "status": "completed"
    },
    "tags": []
   },
   "source": [
    "### Train data set:"
   ]
  },
  {
   "cell_type": "code",
   "execution_count": 4,
   "id": "1ba03ba4",
   "metadata": {
    "execution": {
     "iopub.execute_input": "2024-11-14T19:38:40.916989Z",
     "iopub.status.busy": "2024-11-14T19:38:40.915988Z",
     "iopub.status.idle": "2024-11-14T19:38:41.161517Z",
     "shell.execute_reply": "2024-11-14T19:38:41.160399Z"
    },
    "papermill": {
     "duration": 0.255341,
     "end_time": "2024-11-14T19:38:41.164057",
     "exception": false,
     "start_time": "2024-11-14T19:38:40.908716",
     "status": "completed"
    },
    "tags": []
   },
   "outputs": [
    {
     "name": "stdout",
     "output_type": "stream",
     "text": [
      "Shape: (140700, 20)\n",
      "<class 'pandas.core.frame.DataFrame'>\n",
      "RangeIndex: 140700 entries, 0 to 140699\n",
      "Data columns (total 20 columns):\n",
      " #   Column                                 Non-Null Count   Dtype  \n",
      "---  ------                                 --------------   -----  \n",
      " 0   id                                     140700 non-null  int64  \n",
      " 1   Name                                   140700 non-null  object \n",
      " 2   Gender                                 140700 non-null  object \n",
      " 3   Age                                    140700 non-null  float64\n",
      " 4   City                                   140700 non-null  object \n",
      " 5   Working Professional or Student        140700 non-null  object \n",
      " 6   Profession                             104070 non-null  object \n",
      " 7   Academic Pressure                      27897 non-null   float64\n",
      " 8   Work Pressure                          112782 non-null  float64\n",
      " 9   CGPA                                   27898 non-null   float64\n",
      " 10  Study Satisfaction                     27897 non-null   float64\n",
      " 11  Job Satisfaction                       112790 non-null  float64\n",
      " 12  Sleep Duration                         140700 non-null  object \n",
      " 13  Dietary Habits                         140696 non-null  object \n",
      " 14  Degree                                 140698 non-null  object \n",
      " 15  Have you ever had suicidal thoughts ?  140700 non-null  object \n",
      " 16  Work/Study Hours                       140700 non-null  float64\n",
      " 17  Financial Stress                       140696 non-null  float64\n",
      " 18  Family History of Mental Illness       140700 non-null  object \n",
      " 19  Depression                             140700 non-null  int64  \n",
      "dtypes: float64(8), int64(2), object(10)\n",
      "memory usage: 21.5+ MB\n",
      "\n",
      " NaN values: \n",
      "id                                            0\n",
      "Name                                          0\n",
      "Gender                                        0\n",
      "Age                                           0\n",
      "City                                          0\n",
      "Working Professional or Student               0\n",
      "Profession                                36630\n",
      "Academic Pressure                        112803\n",
      "Work Pressure                             27918\n",
      "CGPA                                     112802\n",
      "Study Satisfaction                       112803\n",
      "Job Satisfaction                          27910\n",
      "Sleep Duration                                0\n",
      "Dietary Habits                                4\n",
      "Degree                                        2\n",
      "Have you ever had suicidal thoughts ?         0\n",
      "Work/Study Hours                              0\n",
      "Financial Stress                              4\n",
      "Family History of Mental Illness              0\n",
      "Depression                                    0\n",
      "dtype: int64\n",
      "\n",
      "Distinct Values: \n",
      "id                                       140700\n",
      "Name                                        422\n",
      "Gender                                        2\n",
      "Age                                          43\n",
      "City                                         98\n",
      "Working Professional or Student               2\n",
      "Profession                                   64\n",
      "Academic Pressure                             5\n",
      "Work Pressure                                 5\n",
      "CGPA                                        331\n",
      "Study Satisfaction                            5\n",
      "Job Satisfaction                              5\n",
      "Sleep Duration                               36\n",
      "Dietary Habits                               23\n",
      "Degree                                      115\n",
      "Have you ever had suicidal thoughts ?         2\n",
      "Work/Study Hours                             13\n",
      "Financial Stress                              5\n",
      "Family History of Mental Illness              2\n",
      "Depression                                    2\n",
      "dtype: int64\n"
     ]
    },
    {
     "data": {
      "text/plain": [
       "Depression\n",
       "0    0.818287\n",
       "1    0.181713\n",
       "Name: count, dtype: float64"
      ]
     },
     "execution_count": 4,
     "metadata": {},
     "output_type": "execute_result"
    }
   ],
   "source": [
    "analyzeDataset(train_df)\n",
    "\n",
    "# check distribution of target_class column\n",
    "train_df['Depression'].value_counts()/float(len(train_df))"
   ]
  },
  {
   "cell_type": "markdown",
   "id": "dd66c304",
   "metadata": {
    "papermill": {
     "duration": 0.00574,
     "end_time": "2024-11-14T19:38:41.175806",
     "exception": false,
     "start_time": "2024-11-14T19:38:41.170066",
     "status": "completed"
    },
    "tags": []
   },
   "source": [
    "### Test data set:"
   ]
  },
  {
   "cell_type": "code",
   "execution_count": 5,
   "id": "5f7e37df",
   "metadata": {
    "execution": {
     "iopub.execute_input": "2024-11-14T19:38:41.189086Z",
     "iopub.status.busy": "2024-11-14T19:38:41.188710Z",
     "iopub.status.idle": "2024-11-14T19:38:41.335041Z",
     "shell.execute_reply": "2024-11-14T19:38:41.334009Z"
    },
    "papermill": {
     "duration": 0.156146,
     "end_time": "2024-11-14T19:38:41.337896",
     "exception": false,
     "start_time": "2024-11-14T19:38:41.181750",
     "status": "completed"
    },
    "tags": []
   },
   "outputs": [
    {
     "name": "stdout",
     "output_type": "stream",
     "text": [
      "Shape: (93800, 19)\n",
      "<class 'pandas.core.frame.DataFrame'>\n",
      "RangeIndex: 93800 entries, 0 to 93799\n",
      "Data columns (total 19 columns):\n",
      " #   Column                                 Non-Null Count  Dtype  \n",
      "---  ------                                 --------------  -----  \n",
      " 0   id                                     93800 non-null  int64  \n",
      " 1   Name                                   93800 non-null  object \n",
      " 2   Gender                                 93800 non-null  object \n",
      " 3   Age                                    93800 non-null  float64\n",
      " 4   City                                   93800 non-null  object \n",
      " 5   Working Professional or Student        93800 non-null  object \n",
      " 6   Profession                             69168 non-null  object \n",
      " 7   Academic Pressure                      18767 non-null  float64\n",
      " 8   Work Pressure                          75022 non-null  float64\n",
      " 9   CGPA                                   18766 non-null  float64\n",
      " 10  Study Satisfaction                     18767 non-null  float64\n",
      " 11  Job Satisfaction                       75026 non-null  float64\n",
      " 12  Sleep Duration                         93800 non-null  object \n",
      " 13  Dietary Habits                         93795 non-null  object \n",
      " 14  Degree                                 93798 non-null  object \n",
      " 15  Have you ever had suicidal thoughts ?  93800 non-null  object \n",
      " 16  Work/Study Hours                       93800 non-null  float64\n",
      " 17  Financial Stress                       93800 non-null  float64\n",
      " 18  Family History of Mental Illness       93800 non-null  object \n",
      "dtypes: float64(8), int64(1), object(10)\n",
      "memory usage: 13.6+ MB\n",
      "\n",
      " NaN values: \n",
      "id                                           0\n",
      "Name                                         0\n",
      "Gender                                       0\n",
      "Age                                          0\n",
      "City                                         0\n",
      "Working Professional or Student              0\n",
      "Profession                               24632\n",
      "Academic Pressure                        75033\n",
      "Work Pressure                            18778\n",
      "CGPA                                     75034\n",
      "Study Satisfaction                       75033\n",
      "Job Satisfaction                         18774\n",
      "Sleep Duration                               0\n",
      "Dietary Habits                               5\n",
      "Degree                                       2\n",
      "Have you ever had suicidal thoughts ?        0\n",
      "Work/Study Hours                             0\n",
      "Financial Stress                             0\n",
      "Family History of Mental Illness             0\n",
      "dtype: int64\n",
      "\n",
      "Distinct Values: \n",
      "id                                       93800\n",
      "Name                                       374\n",
      "Gender                                       2\n",
      "Age                                         44\n",
      "City                                        68\n",
      "Working Professional or Student              2\n",
      "Profession                                  64\n",
      "Academic Pressure                            5\n",
      "Work Pressure                                5\n",
      "CGPA                                       326\n",
      "Study Satisfaction                           5\n",
      "Job Satisfaction                             5\n",
      "Sleep Duration                              31\n",
      "Dietary Habits                              22\n",
      "Degree                                      87\n",
      "Have you ever had suicidal thoughts ?        2\n",
      "Work/Study Hours                            13\n",
      "Financial Stress                             5\n",
      "Family History of Mental Illness             2\n",
      "dtype: int64\n"
     ]
    }
   ],
   "source": [
    "analyzeDataset(test_df)"
   ]
  },
  {
   "cell_type": "markdown",
   "id": "6e6361f8",
   "metadata": {
    "papermill": {
     "duration": 0.00588,
     "end_time": "2024-11-14T19:38:41.349979",
     "exception": false,
     "start_time": "2024-11-14T19:38:41.344099",
     "status": "completed"
    },
    "tags": []
   },
   "source": [
    "## 1. Data clearing\n",
    "### Drop rows:\n",
    "* where dietary habits not healty, moderate and unhealty (-27)\n",
    "* where sleep duration not <5, 5-6,7-8, >8 (-79)\n",
    "### replace NaNs\n",
    "* replace all professions of student to student\n",
    "* replace all NaNs of working Professionals == true to working professional\n",
    "### Transforming to int:\n",
    "* Gender\n",
    "* Working Professional or Student\n",
    "* Sleep Duration \n",
    "* Dietary Habits \n",
    "* Have you ever had suicidal thoughts \n",
    "* Family backgorund \n",
    "* Profession \n",
    "* City\n",
    "### Merge \n",
    "* academic and Work pressure -> pressure\n",
    "* study and job satisfaction -> satisfaction\n",
    "### Normalize Data:\n",
    "### Drop Columns:\n",
    "* Name: shouldn't influence classification\n",
    "* id: shouldn't influence classification\n",
    "* CGPA: 80% of the information is missing\n",
    "### Alternatives to try:\n",
    "* Use Academic Pressure and set all NaN to none Academic Pressure?\n",
    "* Inlcude CGPA with dummy/default values\n",
    "* drop rows with outliers (profession, degree)"
   ]
  },
  {
   "cell_type": "markdown",
   "id": "01644eb6",
   "metadata": {
    "papermill": {
     "duration": 0.005888,
     "end_time": "2024-11-14T19:38:41.361801",
     "exception": false,
     "start_time": "2024-11-14T19:38:41.355913",
     "status": "completed"
    },
    "tags": []
   },
   "source": [
    "### Drop rows:\n",
    "* where dietary habits not healty, moderate and unhealty (-27) -> no adjusting of id"
   ]
  },
  {
   "cell_type": "code",
   "execution_count": 6,
   "id": "914ee8d8",
   "metadata": {
    "execution": {
     "iopub.execute_input": "2024-11-14T19:38:41.375388Z",
     "iopub.status.busy": "2024-11-14T19:38:41.374995Z",
     "iopub.status.idle": "2024-11-14T19:38:41.444379Z",
     "shell.execute_reply": "2024-11-14T19:38:41.443548Z"
    },
    "papermill": {
     "duration": 0.078657,
     "end_time": "2024-11-14T19:38:41.446492",
     "exception": false,
     "start_time": "2024-11-14T19:38:41.367835",
     "status": "completed"
    },
    "tags": []
   },
   "outputs": [
    {
     "name": "stdout",
     "output_type": "stream",
     "text": [
      "Shape: (140700, 20)\n",
      "Shape: (140673, 20)\n"
     ]
    }
   ],
   "source": [
    "#Shape\n",
    "print(\"Shape: \" + str(train_df.shape))\n",
    "train_df.drop(train_df[(train_df['Dietary Habits'] != 'Healthy') & (train_df['Dietary Habits'] != 'Unhealthy') & (train_df['Dietary Habits'] != 'Moderate')].index, inplace = True)\n",
    "#Shape\n",
    "print(\"Shape: \" + str(train_df.shape))"
   ]
  },
  {
   "cell_type": "markdown",
   "id": "4f597a19",
   "metadata": {
    "papermill": {
     "duration": 0.005881,
     "end_time": "2024-11-14T19:38:41.458605",
     "exception": false,
     "start_time": "2024-11-14T19:38:41.452724",
     "status": "completed"
    },
    "tags": []
   },
   "source": [
    "* where sleep duration not <5, 5-6,7-8, >8 -> no adjusting of id"
   ]
  },
  {
   "cell_type": "code",
   "execution_count": 7,
   "id": "ea32da34",
   "metadata": {
    "execution": {
     "iopub.execute_input": "2024-11-14T19:38:41.473077Z",
     "iopub.status.busy": "2024-11-14T19:38:41.472287Z",
     "iopub.status.idle": "2024-11-14T19:38:41.556878Z",
     "shell.execute_reply": "2024-11-14T19:38:41.555919Z"
    },
    "papermill": {
     "duration": 0.094712,
     "end_time": "2024-11-14T19:38:41.559537",
     "exception": false,
     "start_time": "2024-11-14T19:38:41.464825",
     "status": "completed"
    },
    "tags": []
   },
   "outputs": [],
   "source": [
    "train_df.drop(train_df[(train_df['Sleep Duration'] != 'Less than 5 hours') & (train_df['Sleep Duration'] != 'More than 8 hours') & (train_df['Sleep Duration'] != '5-6 hours') & (train_df['Sleep Duration'] != '7-8 hours')].index, inplace = True)"
   ]
  },
  {
   "cell_type": "code",
   "execution_count": 8,
   "id": "14cc0b29",
   "metadata": {
    "execution": {
     "iopub.execute_input": "2024-11-14T19:38:41.573819Z",
     "iopub.status.busy": "2024-11-14T19:38:41.573077Z",
     "iopub.status.idle": "2024-11-14T19:38:41.580312Z",
     "shell.execute_reply": "2024-11-14T19:38:41.579174Z"
    },
    "papermill": {
     "duration": 0.01684,
     "end_time": "2024-11-14T19:38:41.582643",
     "exception": false,
     "start_time": "2024-11-14T19:38:41.565803",
     "status": "completed"
    },
    "tags": []
   },
   "outputs": [],
   "source": [
    "# plot histogram to check distribution of columns with a lot of categories\n",
    "def showHistograms():\n",
    "    plt.figure(figsize=(24,20))\n",
    "    plt.subplot(4, 1, 1)\n",
    "    fig = train_df['Profession'].hist(bins=20)\n",
    "    fig.set_xlabel('Profession')\n",
    "    fig.set_ylabel('Number')\n",
    "    plt.subplot(4, 1, 2)\n",
    "    fig = train_df['CGPA'].hist(bins=20)\n",
    "    fig.set_xlabel('CGPA')\n",
    "    fig.set_ylabel('Number')\n",
    "    plt.subplot(4, 1, 3)\n",
    "    # plt.axis([40, 60, 0, 25])\n",
    "    fig = train_df['Degree'].hist(bins=20)\n",
    "    fig.set_xlabel('Degree')\n",
    "    fig.set_ylabel('Number')\n",
    "    plt.subplot(4, 1, 4)\n",
    "    fig = train_df['Work/Study Hours'].hist(bins=20)\n",
    "    fig.set_xlabel('Work/Study Hours')\n",
    "    fig.set_ylabel('Number')"
   ]
  },
  {
   "cell_type": "code",
   "execution_count": 9,
   "id": "dcc67d55",
   "metadata": {
    "execution": {
     "iopub.execute_input": "2024-11-14T19:38:41.597097Z",
     "iopub.status.busy": "2024-11-14T19:38:41.596411Z",
     "iopub.status.idle": "2024-11-14T19:38:41.600610Z",
     "shell.execute_reply": "2024-11-14T19:38:41.599568Z"
    },
    "papermill": {
     "duration": 0.013554,
     "end_time": "2024-11-14T19:38:41.602721",
     "exception": false,
     "start_time": "2024-11-14T19:38:41.589167",
     "status": "completed"
    },
    "tags": []
   },
   "outputs": [],
   "source": [
    "# showHistograms()"
   ]
  },
  {
   "cell_type": "code",
   "execution_count": 10,
   "id": "d6899138",
   "metadata": {
    "execution": {
     "iopub.execute_input": "2024-11-14T19:38:41.617526Z",
     "iopub.status.busy": "2024-11-14T19:38:41.616740Z",
     "iopub.status.idle": "2024-11-14T19:38:41.622584Z",
     "shell.execute_reply": "2024-11-14T19:38:41.621623Z"
    },
    "papermill": {
     "duration": 0.01586,
     "end_time": "2024-11-14T19:38:41.624860",
     "exception": false,
     "start_time": "2024-11-14T19:38:41.609000",
     "status": "completed"
    },
    "tags": []
   },
   "outputs": [],
   "source": [
    "def fillEmptyCells(df: pd.DataFrame, source_col: str, target_col: str) -> pd.DataFrame:\n",
    "    \"\"\"\n",
    "    Fills empty cells in the target column with values from the source column in the DataFrame.\n",
    "    \n",
    "    Parameters:\n",
    "    df (pd.DataFrame): The input DataFrame.\n",
    "    source_col (str): The name of the source column with non-empty values.\n",
    "    target_col (str): The name of the target column where empty cells will be filled.\n",
    "    \n",
    "    Returns:\n",
    "    pd.DataFrame: The DataFrame with empty cells in the target column filled.\n",
    "    \"\"\"\n",
    "    # Fill empty cells in target_col with values from source_col\n",
    "    df[target_col] = df[target_col].fillna(df[source_col])\n",
    "    \n",
    "    return df"
   ]
  },
  {
   "cell_type": "code",
   "execution_count": 11,
   "id": "209e8db1",
   "metadata": {
    "execution": {
     "iopub.execute_input": "2024-11-14T19:38:41.639116Z",
     "iopub.status.busy": "2024-11-14T19:38:41.638742Z",
     "iopub.status.idle": "2024-11-14T19:38:41.674462Z",
     "shell.execute_reply": "2024-11-14T19:38:41.673135Z"
    },
    "papermill": {
     "duration": 0.045439,
     "end_time": "2024-11-14T19:38:41.676740",
     "exception": false,
     "start_time": "2024-11-14T19:38:41.631301",
     "status": "completed"
    },
    "tags": []
   },
   "outputs": [
    {
     "data": {
      "text/html": [
       "<div>\n",
       "<style scoped>\n",
       "    .dataframe tbody tr th:only-of-type {\n",
       "        vertical-align: middle;\n",
       "    }\n",
       "\n",
       "    .dataframe tbody tr th {\n",
       "        vertical-align: top;\n",
       "    }\n",
       "\n",
       "    .dataframe thead th {\n",
       "        text-align: right;\n",
       "    }\n",
       "</style>\n",
       "<table border=\"1\" class=\"dataframe\">\n",
       "  <thead>\n",
       "    <tr style=\"text-align: right;\">\n",
       "      <th></th>\n",
       "      <th>id</th>\n",
       "      <th>Name</th>\n",
       "      <th>Gender</th>\n",
       "      <th>Age</th>\n",
       "      <th>City</th>\n",
       "      <th>Working Professional or Student</th>\n",
       "      <th>Profession</th>\n",
       "      <th>Academic Pressure</th>\n",
       "      <th>Work Pressure</th>\n",
       "      <th>CGPA</th>\n",
       "      <th>Study Satisfaction</th>\n",
       "      <th>Job Satisfaction</th>\n",
       "      <th>Sleep Duration</th>\n",
       "      <th>Dietary Habits</th>\n",
       "      <th>Degree</th>\n",
       "      <th>Have you ever had suicidal thoughts ?</th>\n",
       "      <th>Work/Study Hours</th>\n",
       "      <th>Financial Stress</th>\n",
       "      <th>Family History of Mental Illness</th>\n",
       "      <th>Depression</th>\n",
       "    </tr>\n",
       "  </thead>\n",
       "  <tbody>\n",
       "    <tr>\n",
       "      <th>0</th>\n",
       "      <td>0</td>\n",
       "      <td>Aaradhya</td>\n",
       "      <td>Female</td>\n",
       "      <td>49.0</td>\n",
       "      <td>Ludhiana</td>\n",
       "      <td>Working Professional</td>\n",
       "      <td>Chef</td>\n",
       "      <td>NaN</td>\n",
       "      <td>5.0</td>\n",
       "      <td>NaN</td>\n",
       "      <td>NaN</td>\n",
       "      <td>2.0</td>\n",
       "      <td>More than 8 hours</td>\n",
       "      <td>Healthy</td>\n",
       "      <td>BHM</td>\n",
       "      <td>No</td>\n",
       "      <td>1.0</td>\n",
       "      <td>2.0</td>\n",
       "      <td>No</td>\n",
       "      <td>0</td>\n",
       "    </tr>\n",
       "    <tr>\n",
       "      <th>1</th>\n",
       "      <td>1</td>\n",
       "      <td>Vivan</td>\n",
       "      <td>Male</td>\n",
       "      <td>26.0</td>\n",
       "      <td>Varanasi</td>\n",
       "      <td>Working Professional</td>\n",
       "      <td>Teacher</td>\n",
       "      <td>NaN</td>\n",
       "      <td>4.0</td>\n",
       "      <td>NaN</td>\n",
       "      <td>NaN</td>\n",
       "      <td>3.0</td>\n",
       "      <td>Less than 5 hours</td>\n",
       "      <td>Unhealthy</td>\n",
       "      <td>LLB</td>\n",
       "      <td>Yes</td>\n",
       "      <td>7.0</td>\n",
       "      <td>3.0</td>\n",
       "      <td>No</td>\n",
       "      <td>1</td>\n",
       "    </tr>\n",
       "    <tr>\n",
       "      <th>2</th>\n",
       "      <td>2</td>\n",
       "      <td>Yuvraj</td>\n",
       "      <td>Male</td>\n",
       "      <td>33.0</td>\n",
       "      <td>Visakhapatnam</td>\n",
       "      <td>Student</td>\n",
       "      <td>Student</td>\n",
       "      <td>5.0</td>\n",
       "      <td>NaN</td>\n",
       "      <td>8.97</td>\n",
       "      <td>2.0</td>\n",
       "      <td>NaN</td>\n",
       "      <td>5-6 hours</td>\n",
       "      <td>Healthy</td>\n",
       "      <td>B.Pharm</td>\n",
       "      <td>Yes</td>\n",
       "      <td>3.0</td>\n",
       "      <td>1.0</td>\n",
       "      <td>No</td>\n",
       "      <td>1</td>\n",
       "    </tr>\n",
       "    <tr>\n",
       "      <th>3</th>\n",
       "      <td>3</td>\n",
       "      <td>Yuvraj</td>\n",
       "      <td>Male</td>\n",
       "      <td>22.0</td>\n",
       "      <td>Mumbai</td>\n",
       "      <td>Working Professional</td>\n",
       "      <td>Teacher</td>\n",
       "      <td>NaN</td>\n",
       "      <td>5.0</td>\n",
       "      <td>NaN</td>\n",
       "      <td>NaN</td>\n",
       "      <td>1.0</td>\n",
       "      <td>Less than 5 hours</td>\n",
       "      <td>Moderate</td>\n",
       "      <td>BBA</td>\n",
       "      <td>Yes</td>\n",
       "      <td>10.0</td>\n",
       "      <td>1.0</td>\n",
       "      <td>Yes</td>\n",
       "      <td>1</td>\n",
       "    </tr>\n",
       "    <tr>\n",
       "      <th>4</th>\n",
       "      <td>4</td>\n",
       "      <td>Rhea</td>\n",
       "      <td>Female</td>\n",
       "      <td>30.0</td>\n",
       "      <td>Kanpur</td>\n",
       "      <td>Working Professional</td>\n",
       "      <td>Business Analyst</td>\n",
       "      <td>NaN</td>\n",
       "      <td>1.0</td>\n",
       "      <td>NaN</td>\n",
       "      <td>NaN</td>\n",
       "      <td>1.0</td>\n",
       "      <td>5-6 hours</td>\n",
       "      <td>Unhealthy</td>\n",
       "      <td>BBA</td>\n",
       "      <td>Yes</td>\n",
       "      <td>9.0</td>\n",
       "      <td>4.0</td>\n",
       "      <td>Yes</td>\n",
       "      <td>0</td>\n",
       "    </tr>\n",
       "  </tbody>\n",
       "</table>\n",
       "</div>"
      ],
      "text/plain": [
       "   id      Name  Gender   Age           City Working Professional or Student  \\\n",
       "0   0  Aaradhya  Female  49.0       Ludhiana            Working Professional   \n",
       "1   1     Vivan    Male  26.0       Varanasi            Working Professional   \n",
       "2   2    Yuvraj    Male  33.0  Visakhapatnam                         Student   \n",
       "3   3    Yuvraj    Male  22.0         Mumbai            Working Professional   \n",
       "4   4      Rhea  Female  30.0         Kanpur            Working Professional   \n",
       "\n",
       "         Profession  Academic Pressure  Work Pressure  CGPA  \\\n",
       "0              Chef                NaN            5.0   NaN   \n",
       "1           Teacher                NaN            4.0   NaN   \n",
       "2           Student                5.0            NaN  8.97   \n",
       "3           Teacher                NaN            5.0   NaN   \n",
       "4  Business Analyst                NaN            1.0   NaN   \n",
       "\n",
       "   Study Satisfaction  Job Satisfaction     Sleep Duration Dietary Habits  \\\n",
       "0                 NaN               2.0  More than 8 hours        Healthy   \n",
       "1                 NaN               3.0  Less than 5 hours      Unhealthy   \n",
       "2                 2.0               NaN          5-6 hours        Healthy   \n",
       "3                 NaN               1.0  Less than 5 hours       Moderate   \n",
       "4                 NaN               1.0          5-6 hours      Unhealthy   \n",
       "\n",
       "    Degree Have you ever had suicidal thoughts ?  Work/Study Hours  \\\n",
       "0      BHM                                    No               1.0   \n",
       "1      LLB                                   Yes               7.0   \n",
       "2  B.Pharm                                   Yes               3.0   \n",
       "3      BBA                                   Yes              10.0   \n",
       "4      BBA                                   Yes               9.0   \n",
       "\n",
       "   Financial Stress Family History of Mental Illness  Depression  \n",
       "0               2.0                               No           0  \n",
       "1               3.0                               No           1  \n",
       "2               1.0                               No           1  \n",
       "3               1.0                              Yes           1  \n",
       "4               4.0                              Yes           0  "
      ]
     },
     "execution_count": 11,
     "metadata": {},
     "output_type": "execute_result"
    }
   ],
   "source": [
    "train_df = fillEmptyCells(train_df, \"Working Professional or Student\", \"Profession\")\n",
    "train_df.head()"
   ]
  },
  {
   "cell_type": "code",
   "execution_count": 12,
   "id": "6374215b",
   "metadata": {
    "execution": {
     "iopub.execute_input": "2024-11-14T19:38:41.692068Z",
     "iopub.status.busy": "2024-11-14T19:38:41.691144Z",
     "iopub.status.idle": "2024-11-14T19:38:41.697274Z",
     "shell.execute_reply": "2024-11-14T19:38:41.696283Z"
    },
    "papermill": {
     "duration": 0.015865,
     "end_time": "2024-11-14T19:38:41.699269",
     "exception": false,
     "start_time": "2024-11-14T19:38:41.683404",
     "status": "completed"
    },
    "tags": []
   },
   "outputs": [],
   "source": [
    "def convertObjectColumnsToIntegers(df: pd.DataFrame) -> pd.DataFrame:\n",
    "    \"\"\"\n",
    "    Konvertiert alle Spalten eines DataFrames mit Datentyp 'object' in Integer-Werte,\n",
    "    wobei jede Kategorie einen eindeutigen Integer-Wert erhält.\n",
    "    \n",
    "    Parameter:\n",
    "    df (pd.DataFrame): Der zu bearbeitende DataFrame\n",
    "    \n",
    "    Rückgabe:\n",
    "    pd.DataFrame: Der DataFrame mit konvertierten Spalten\n",
    "    dict: Ein Dictionary mit den Mappings von Kategorie-Strings zu Integer-Werten für jede Spalte\n",
    "    \"\"\"\n",
    "    # Dictionary zum Speichern der Mapping-Informationen\n",
    "    category_mappings = {}\n",
    "\n",
    "    # Durchlaufen aller Spalten mit Datentyp 'object'\n",
    "    for col in df.select_dtypes(include=['object']).columns:\n",
    "        # Konvertieren der Spalte in Kategorien und Mapping-Informationen speichern\n",
    "        df[col], category_map = pd.factorize(df[col])\n",
    "        category_mappings[col] = dict(enumerate(category_map))\n"
   ]
  },
  {
   "cell_type": "markdown",
   "id": "c07f5ee8",
   "metadata": {
    "papermill": {
     "duration": 0.006233,
     "end_time": "2024-11-14T19:38:41.712148",
     "exception": false,
     "start_time": "2024-11-14T19:38:41.705915",
     "status": "completed"
    },
    "tags": []
   },
   "source": [
    "Convert object (string) categories into integer values"
   ]
  },
  {
   "cell_type": "code",
   "execution_count": 13,
   "id": "03a47a9c",
   "metadata": {
    "execution": {
     "iopub.execute_input": "2024-11-14T19:38:41.726670Z",
     "iopub.status.busy": "2024-11-14T19:38:41.726281Z",
     "iopub.status.idle": "2024-11-14T19:38:41.888307Z",
     "shell.execute_reply": "2024-11-14T19:38:41.887014Z"
    },
    "papermill": {
     "duration": 0.172297,
     "end_time": "2024-11-14T19:38:41.890889",
     "exception": false,
     "start_time": "2024-11-14T19:38:41.718592",
     "status": "completed"
    },
    "tags": []
   },
   "outputs": [],
   "source": [
    "convertObjectColumnsToIntegers(train_df)"
   ]
  },
  {
   "cell_type": "code",
   "execution_count": 14,
   "id": "90d01da9",
   "metadata": {
    "execution": {
     "iopub.execute_input": "2024-11-14T19:38:41.905731Z",
     "iopub.status.busy": "2024-11-14T19:38:41.905338Z",
     "iopub.status.idle": "2024-11-14T19:38:41.911478Z",
     "shell.execute_reply": "2024-11-14T19:38:41.910364Z"
    },
    "papermill": {
     "duration": 0.016137,
     "end_time": "2024-11-14T19:38:41.913711",
     "exception": false,
     "start_time": "2024-11-14T19:38:41.897574",
     "status": "completed"
    },
    "tags": []
   },
   "outputs": [],
   "source": [
    "def mergeColumns(df: pd.DataFrame, col1: str, col2: str, col3: str) -> pd.DataFrame:\n",
    "    \"\"\"\n",
    "    Merges two columns in a DataFrame, where each row has a float64 value in either one of the columns\n",
    "    and NaN in the other. Creates a new column with the merged values.\n",
    "    \n",
    "    Parameters:\n",
    "    df (pd.DataFrame): The input DataFrame.\n",
    "    col1 (str): The name of the first column to merge.\n",
    "    col2 (str): The name of the second column to merge.\n",
    "    col3 (str): The name of the new column to store the merged values.\n",
    "    \n",
    "    Returns:\n",
    "    pd.DataFrame: The DataFrame with a new column 'merged_column' containing the merged values.\n",
    "    \"\"\"\n",
    "    # Create the merged column by filling NaNs in col1 with values from col2\n",
    "    df[col3] = df[col1].combine_first(df[col2])\n",
    "    df.drop(columns=[col1, col2], inplace=True)\n",
    "\n",
    "    return df\n"
   ]
  },
  {
   "cell_type": "code",
   "execution_count": 15,
   "id": "9fb4cefe",
   "metadata": {
    "execution": {
     "iopub.execute_input": "2024-11-14T19:38:41.929290Z",
     "iopub.status.busy": "2024-11-14T19:38:41.928177Z",
     "iopub.status.idle": "2024-11-14T19:38:41.951653Z",
     "shell.execute_reply": "2024-11-14T19:38:41.950470Z"
    },
    "papermill": {
     "duration": 0.033909,
     "end_time": "2024-11-14T19:38:41.954252",
     "exception": false,
     "start_time": "2024-11-14T19:38:41.920343",
     "status": "completed"
    },
    "tags": []
   },
   "outputs": [],
   "source": [
    "train_df = mergeColumns(train_df, \"Academic Pressure\", \"Work Pressure\", \"Pressure\")\n",
    "train_df = mergeColumns(train_df, \"Study Satisfaction\", \"Job Satisfaction\", \"Satisfaction\")"
   ]
  },
  {
   "cell_type": "markdown",
   "id": "eff2dd1d",
   "metadata": {
    "papermill": {
     "duration": 0.006763,
     "end_time": "2024-11-14T19:38:41.968545",
     "exception": false,
     "start_time": "2024-11-14T19:38:41.961782",
     "status": "completed"
    },
    "tags": []
   },
   "source": [
    "## Normalization"
   ]
  },
  {
   "cell_type": "code",
   "execution_count": 16,
   "id": "4268ba1f",
   "metadata": {
    "execution": {
     "iopub.execute_input": "2024-11-14T19:38:41.983335Z",
     "iopub.status.busy": "2024-11-14T19:38:41.982936Z",
     "iopub.status.idle": "2024-11-14T19:38:42.064452Z",
     "shell.execute_reply": "2024-11-14T19:38:42.063421Z"
    },
    "papermill": {
     "duration": 0.091744,
     "end_time": "2024-11-14T19:38:42.066940",
     "exception": false,
     "start_time": "2024-11-14T19:38:41.975196",
     "status": "completed"
    },
    "tags": []
   },
   "outputs": [],
   "source": [
    "# Create a MinMaxScaler instance\n",
    "scaler = MinMaxScaler()\n",
    "\n",
    "# Select only numerical columns for scaling\n",
    "numerical_cols = train_df.select_dtypes(include=['float64', 'int64']).columns\n",
    "\n",
    "# Apply the MinMaxScaler to these columns and replace them in the DataFrame\n",
    "train_df[numerical_cols] = scaler.fit_transform(train_df[numerical_cols])"
   ]
  },
  {
   "cell_type": "code",
   "execution_count": 17,
   "id": "c21b8931",
   "metadata": {
    "execution": {
     "iopub.execute_input": "2024-11-14T19:38:42.081610Z",
     "iopub.status.busy": "2024-11-14T19:38:42.081252Z",
     "iopub.status.idle": "2024-11-14T19:38:43.226415Z",
     "shell.execute_reply": "2024-11-14T19:38:43.225159Z"
    },
    "papermill": {
     "duration": 1.155891,
     "end_time": "2024-11-14T19:38:43.229538",
     "exception": false,
     "start_time": "2024-11-14T19:38:42.073647",
     "status": "completed"
    },
    "tags": []
   },
   "outputs": [
    {
     "data": {
      "image/png": "[encoded data removed]",
      "text/plain": [
       "<Figure size 2400x2000 with 4 Axes>"
      ]
     },
     "metadata": {},
     "output_type": "display_data"
    }
   ],
   "source": [
    "showHistograms()"
   ]
  },
  {
   "cell_type": "code",
   "execution_count": 18,
   "id": "303d8f5a",
   "metadata": {
    "execution": {
     "iopub.execute_input": "2024-11-14T19:38:43.246350Z",
     "iopub.status.busy": "2024-11-14T19:38:43.245944Z",
     "iopub.status.idle": "2024-11-14T19:38:43.258172Z",
     "shell.execute_reply": "2024-11-14T19:38:43.257235Z"
    },
    "papermill": {
     "duration": 0.02359,
     "end_time": "2024-11-14T19:38:43.260779",
     "exception": false,
     "start_time": "2024-11-14T19:38:43.237189",
     "status": "completed"
    },
    "tags": []
   },
   "outputs": [],
   "source": [
    "# Split data to X and y\n",
    "X = train_df.drop(columns=['id', 'Name', 'CGPA', 'Depression'])\n",
    "y = train_df['Depression']"
   ]
  }
 ],
 "metadata": {
  "kaggle": {
   "accelerator": "none",
   "dataSources": [
    {
     "databundleVersionId": 10008389,
     "sourceId": 84895,
     "sourceType": "competition"
    }
   ],
   "dockerImageVersionId": 30786,
   "isGpuEnabled": false,
   "isInternetEnabled": false,
   "language": "python",
   "sourceType": "notebook"
  },
  "kernelspec": {
   "display_name": "Python 3",
   "language": "python",
   "name": "python3"
  },
  "language_info": {
   "codemirror_mode": {
    "name": "ipython",
    "version": 3
   },
   "file_extension": ".py",
   "mimetype": "text/x-python",
   "name": "python",
   "nbconvert_exporter": "python",
   "pygments_lexer": "ipython3",
   "version": "3.10.14"
  },
  "papermill": {
   "default_parameters": {},
   "duration": 7.941306,
   "end_time": "2024-11-14T19:38:43.789108",
   "environment_variables": {},
   "exception": null,
   "input_path": "__notebook__.ipynb",
   "output_path": "__notebook__.ipynb",
   "parameters": {},
   "start_time": "2024-11-14T19:38:35.847802",
   "version": "2.6.0"
  }
 },
 "nbformat": 4,
 "nbformat_minor": 5
}
